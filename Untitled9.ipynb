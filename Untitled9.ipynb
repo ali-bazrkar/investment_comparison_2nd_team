{
 "cells": [
  {
   "cell_type": "markdown",
   "id": "c824cad5-c06a-48dc-a9b9-6e28c9b9eb18",
   "metadata": {},
   "source": [
    "## IMDB Movies Dataset from 2006 to 2016\n"
   ]
  },
  {
   "cell_type": "markdown",
   "id": "017e9284-6fc3-4f1d-81d1-334e16a74ecc",
   "metadata": {},
   "source": [
    "In this project, I'm going to perform a data analysis on IMDB dataset that has been downloaded from Kaggle\n"
   ]
  },
  {
   "cell_type": "markdown",
   "id": "9b4a0de7-4215-4469-9c6d-3746905977b3",
   "metadata": {},
   "source": [
    "## Importing Packages\n"
   ]
  },
  {
   "cell_type": "code",
   "execution_count": 2,
   "id": "c808d97b-f50b-41b5-84a0-40a2dd7def7f",
   "metadata": {},
   "outputs": [],
   "source": [
    "import numpy as np\n",
    "import pandas as pd\n",
    "import matplotlib.pyplot as plt\n",
    "import seaborn as sns"
   ]
  },
  {
   "cell_type": "markdown",
   "id": "a3992d40-d3d6-4afb-9a3f-b110532a6b3f",
   "metadata": {},
   "source": [
    "## Loading the Dataset"
   ]
  },
  {
   "cell_type": "code",
   "execution_count": 5,
   "id": "a0aac8fa-5ad7-41d0-909e-2bd7da088b61",
   "metadata": {},
   "outputs": [],
   "source": [
    "#data = pd.read_csv(\"‪IMDB-Movie-Data.csv\")"
   ]
  },
  {
   "cell_type": "code",
   "execution_count": null,
   "id": "632f6fc5-86fd-4331-b1d5-3edb813d0003",
   "metadata": {},
   "outputs": [],
   "source": []
  },
  {
   "cell_type": "code",
   "execution_count": null,
   "id": "ddb40e04-de27-48d8-9c51-74d76fc25c17",
   "metadata": {},
   "outputs": [],
   "source": []
  },
  {
   "cell_type": "code",
   "execution_count": null,
   "id": "07f76f67-c3cc-4e4b-a149-7953b61d0f8f",
   "metadata": {},
   "outputs": [],
   "source": []
  }
 ],
 "metadata": {
  "kernelspec": {
   "display_name": "Python 3 (ipykernel)",
   "language": "python",
   "name": "python3"
  },
  "language_info": {
   "codemirror_mode": {
    "name": "ipython",
    "version": 3
   },
   "file_extension": ".py",
   "mimetype": "text/x-python",
   "name": "python",
   "nbconvert_exporter": "python",
   "pygments_lexer": "ipython3",
   "version": "3.12.4"
  }
 },
 "nbformat": 4,
 "nbformat_minor": 5
}
